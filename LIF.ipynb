{
 "cells": [
  {
   "cell_type": "markdown",
   "id": "7c16b70c-997d-4134-a319-4f144e888bb1",
   "metadata": {},
   "source": [
    "### LIF"
   ]
  },
  {
   "cell_type": "code",
   "execution_count": 1,
   "id": "eb2c1822-bc55-49b0-a649-597fe044ecd2",
   "metadata": {
    "execution": {
     "iopub.execute_input": "2024-07-05T14:14:49.025657Z",
     "iopub.status.busy": "2024-07-05T14:14:49.025133Z",
     "iopub.status.idle": "2024-07-05T14:14:49.032483Z",
     "shell.execute_reply": "2024-07-05T14:14:49.029996Z",
     "shell.execute_reply.started": "2024-07-05T14:14:49.025609Z"
    }
   },
   "outputs": [
    {
     "name": "stdout",
     "output_type": "stream",
     "text": [
      "test\n"
     ]
    }
   ],
   "source": [
    "print('test')"
   ]
  }
 ],
 "metadata": {
  "kernelspec": {
   "display_name": "base",
   "language": "python",
   "name": "base"
  },
  "language_info": {
   "codemirror_mode": {
    "name": "ipython",
    "version": 3
   },
   "file_extension": ".py",
   "mimetype": "text/x-python",
   "name": "python",
   "nbconvert_exporter": "python",
   "pygments_lexer": "ipython3",
   "version": "3.12.4"
  }
 },
 "nbformat": 4,
 "nbformat_minor": 5
}
